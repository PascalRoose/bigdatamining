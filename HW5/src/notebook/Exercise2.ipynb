{
 "cells": [
  {
   "cell_type": "code",
   "execution_count": 1,
   "metadata": {},
   "outputs": [],
   "source": [
    "import pyspark.sql.functions as F\n",
    "\n",
    "from pyspark.sql import SparkSession\n",
    "from pyspark.sql import SQLContext\n",
    "from pyspark.sql.types import *"
   ]
  },
  {
   "cell_type": "code",
   "execution_count": 2,
   "metadata": {},
   "outputs": [],
   "source": [
    "# Create a spark session/application\n",
    "spark = SparkSession.builder.appName('Homework5_Exercise1').getOrCreate()\n",
    "sqlcontext = SQLContext(sc)"
   ]
  },
  {
   "cell_type": "code",
   "execution_count": 3,
   "metadata": {},
   "outputs": [],
   "source": [
    "# Import web-Google.txt as dataframe using the defined schema\n",
    "schema = StructType(\n",
    "    [\n",
    "        StructField(\"FromNodeId\", IntegerType(), False),\n",
    "        StructField(\"ToNodeId\", IntegerType(), False)\n",
    "    ]\n",
    ")\n",
    "graph_df = spark.read.format(\"csv\")\\\n",
    "            .option(\"header\", \"true\")\\\n",
    "            .option(\"delimiter\", \"\\t\")\\\n",
    "            .option(\"comment\", \"#\")\\\n",
    "            .schema(schema)\\\n",
    "            .load(\"data/web-Google.txt\")\n"
   ]
  },
  {
   "cell_type": "code",
   "execution_count": 4,
   "metadata": {},
   "outputs": [],
   "source": [
    "inlinks_df = graph_df.groupBy(\"ToNodeId\")\\\n",
    "                     .agg(F.countDistinct(\"FromNodeId\").alias(\"Inlinks\"))\\\n",
    "                     .orderBy(F.desc(\"Inlinks\"))"
   ]
  },
  {
   "cell_type": "code",
   "execution_count": 6,
   "metadata": {},
   "outputs": [
    {
     "data": {
      "text/plain": [
       "0"
      ]
     },
     "execution_count": 6,
     "metadata": {},
     "output_type": "execute_result"
    }
   ],
   "source": [
    "# Write the output to output/exercise1.csv\n",
    "inlinks_df.write.mode(\"overwrite\").csv(f'output/exercise2')\n",
    "os.system(f'rm output/exercise2.csv')\n",
    "os.system(f'cat output/exercise2/p* > output/exercise2.csv')"
   ]
  }
 ],
 "metadata": {
  "kernelspec": {
   "display_name": "Python 3",
   "language": "python",
   "name": "python3"
  },
  "language_info": {
   "codemirror_mode": {
    "name": "ipython",
    "version": 3
   },
   "file_extension": ".py",
   "mimetype": "text/x-python",
   "name": "python",
   "nbconvert_exporter": "python",
   "pygments_lexer": "ipython3",
   "version": "3.6.8"
  }
 },
 "nbformat": 4,
 "nbformat_minor": 2
}
