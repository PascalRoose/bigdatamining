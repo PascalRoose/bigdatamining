{
 "cells": [
  {
   "cell_type": "code",
   "execution_count": 1,
   "metadata": {},
   "outputs": [],
   "source": [
    "import random\n",
    "import pyspark.sql.functions as F\n",
    "\n",
    "from pyspark.sql import SparkSession\n",
    "from pyspark.sql import SQLContext\n",
    "from pyspark.sql.types import *"
   ]
  },
  {
   "cell_type": "code",
   "execution_count": 2,
   "metadata": {},
   "outputs": [],
   "source": [
    "# Create a spark session/application\n",
    "spark = SparkSession.builder.appName('Homework5_Exercise1').getOrCreate()\n",
    "sqlcontext = SQLContext(sc)"
   ]
  },
  {
   "cell_type": "code",
   "execution_count": 3,
   "metadata": {},
   "outputs": [],
   "source": [
    "# Import web-Google.txt as dataframe using the defined schema\n",
    "schema = StructType(\n",
    "    [\n",
    "        StructField(\"FromNodeId\", IntegerType(), False),\n",
    "        StructField(\"ToNodeId\", IntegerType(), False)\n",
    "    ]\n",
    ")\n",
    "graph_df = spark.read.format(\"csv\")\\\n",
    "            .option(\"header\", \"true\")\\\n",
    "            .option(\"delimiter\", \"\\t\")\\\n",
    "            .option(\"comment\", \"#\")\\\n",
    "            .schema(schema)\\\n",
    "            .load(\"data/web-Google.txt\")"
   ]
  },
  {
   "cell_type": "code",
   "execution_count": 16,
   "metadata": {},
   "outputs": [],
   "source": [
    "# Get a dictionary of inlinks and outlinks both as lists\n",
    "def node_connectivity(node_v):\n",
    "    out_links = graph_df.filter(F.col('FromNodeId') == node_v)\n",
    "    out_links = [str(out_link['ToNodeId']) for out_link in out_links.collect()]\n",
    "    \n",
    "    in_links = graph_df.filter(F.col('ToNodeId') == node_v)\n",
    "    in_links = [str(in_link['FromNodeId']) for in_link in in_links.collect()]\n",
    "    \n",
    "    return {\"out_links\": out_links, \"in_links\": in_links}"
   ]
  },
  {
   "cell_type": "code",
   "execution_count": 5,
   "metadata": {},
   "outputs": [],
   "source": [
    "# Get a list of all nodes\n",
    "from_nodes = [row[\"FromNodeId\"] for row in graph_df.select(\"FromNodeId\").distinct().collect()]\n",
    "to_nodes = [row[\"ToNodeId\"] for row in graph_df.select(\"ToNodeId\").distinct().collect()]\n",
    "nodes = list(set(from_nodes + to_nodes))"
   ]
  },
  {
   "cell_type": "code",
   "execution_count": 20,
   "metadata": {},
   "outputs": [],
   "source": [
    "# Select a random node v\n",
    "node_v = random.choice(nodes)"
   ]
  },
  {
   "cell_type": "code",
   "execution_count": 21,
   "metadata": {},
   "outputs": [],
   "source": [
    "connectivity_v = node_connectivity(node_v)"
   ]
  },
  {
   "cell_type": "code",
   "execution_count": 22,
   "metadata": {},
   "outputs": [],
   "source": [
    "# Write the output to output/exercise3/{node_v}.csv\n",
    "with open(f'output/exercise3/{node_v}.txt', 'w+') as output_file:\n",
    "    output_file.write(\",\".join(connectivity_v['out_links']) + '\\n')\n",
    "    output_file.write(\",\".join(connectivity_v['in_links']))"
   ]
  },
  {
   "cell_type": "code",
   "execution_count": null,
   "metadata": {},
   "outputs": [],
   "source": []
  },
  {
   "cell_type": "code",
   "execution_count": null,
   "metadata": {},
   "outputs": [],
   "source": []
  },
  {
   "cell_type": "code",
   "execution_count": null,
   "metadata": {},
   "outputs": [],
   "source": []
  }
 ],
 "metadata": {
  "kernelspec": {
   "display_name": "Python 3",
   "language": "python",
   "name": "python3"
  },
  "language_info": {
   "codemirror_mode": {
    "name": "ipython",
    "version": 3
   },
   "file_extension": ".py",
   "mimetype": "text/x-python",
   "name": "python",
   "nbconvert_exporter": "python",
   "pygments_lexer": "ipython3",
   "version": "3.6.8"
  }
 },
 "nbformat": 4,
 "nbformat_minor": 2
}
