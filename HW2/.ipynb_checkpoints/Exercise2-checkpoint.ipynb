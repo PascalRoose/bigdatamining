{
 "cells": [
  {
   "cell_type": "code",
   "execution_count": 33,
   "metadata": {},
   "outputs": [],
   "source": [
    "from pyspark.sql import SparkSession\n",
    "\n",
    "from functools import reduce\n",
    "from operator import add"
   ]
  },
  {
   "cell_type": "code",
   "execution_count": 34,
   "metadata": {},
   "outputs": [],
   "source": [
    "# Create a spark session/application\n",
    "spark = SparkSession.builder.appName('Exercise 1').getOrCreate()"
   ]
  },
  {
   "cell_type": "code",
   "execution_count": 35,
   "metadata": {},
   "outputs": [],
   "source": [
    "# Create a dataframe for each platform with all topics\n",
    "\n",
    "platforms = ['Facebook', 'GooglePlus', 'LinkedIn']\n",
    "dataframes = {}\n",
    "\n",
    "for platform in platforms:\n",
    "    df = spark.read.format('csv')\\\n",
    "        .option('header', 'true')\\\n",
    "        .option('delimiter', ',')\\\n",
    "        .load(f'data/{platform}_*.csv')\n",
    "    dataframes[platform] = df"
   ]
  },
  {
   "cell_type": "code",
   "execution_count": 36,
   "metadata": {},
   "outputs": [],
   "source": [
    "# Generate the dataframes for the average popularity by hour and by day \n",
    "#  for each platform for each news article\n",
    "\n",
    "# Dictionary with each platform as sub-dictionary for storing the generated dataframes\n",
    "avg_dataframes = {x: {} for x in platforms}\n",
    "\n",
    "# 3x 20 minutes in an hour, 24x hours,in a day 3*24 = 72\n",
    "hours = int(144 / 3)\n",
    "days = int(hours / 24)\n",
    "\n",
    "# Loop through the platforms and their dataframe\n",
    "for platform, df in dataframes.items():\n",
    "    # Calculate the average popularity for each hour \n",
    "    for i in range(1, hours + 1):\n",
    "        # Grab 3 colomns each time calculate the average and add as a new row\n",
    "        cols = [f'TS{i+j}' for j in range(3)]\n",
    "        # Calculate the average and add the result as a new colomn\n",
    "        df = df.withColumn(f'avg_hour{i}', reduce(add, (df[col] for col in cols)) / 3)\n",
    "    # Create a new dataframe with all of the avg_hour* columns\n",
    "    avg_dataframes[platform]['avg_hour'] = df.select([f'avg_hour{i}' for i in range(1, hours + 1)])\n",
    "    \n",
    "    # Calculate the average popularity for each day \n",
    "    for i in range(1, days + 1):\n",
    "        # Grab 24 colomns each time calculate the average and add as a new row\n",
    "        cols = [f'avg_hour{i+j}' for j in range(24)]\n",
    "        # Calculate the average and add the result as a new colomn\n",
    "        df = df.withColumn(f'avg_day{i}', reduce(add, (df[col] for col in cols)) / 24)\n",
    "    # Create a new dataframe with all of the avg_day* columns\n",
    "    avg_dataframes[platform]['avg_day'] = df.select([f'avg_day{i}' for i in range(1, days + 1)])"
   ]
  },
  {
   "cell_type": "code",
   "execution_count": 37,
   "metadata": {},
   "outputs": [],
   "source": [
    "# For each platform write the avg_hour framework to a txt file as <platform>_hour.txt\n",
    "#  Each line contains a news article and the average popularity of it per hour comma-seperated\n",
    "for platform, avg in avg_dataframes.items():\n",
    "    df = avg['avg_hour']\n",
    "    cols = [f'avg_hour{i}' for i in range(1, hours + 1)]\n",
    "    part_path = f'output/exercise2/partitions/{platform}_hour'\n",
    "    out_path = f'output/exercise2/{platform}_hour'\n",
    "    df.select(cols).write.mode(\"overwrite\").csv(part_path)\n",
    "    \n",
    "    os.system(f'rm {out_path}.txt')\n",
    "    os.system(f'cat {part_path}/p* > {out_path}.txt')"
   ]
  },
  {
   "cell_type": "code",
   "execution_count": 38,
   "metadata": {},
   "outputs": [],
   "source": [
    "# For each platform write the avg_hour framework to a txt file as <platform>_hour.txt\n",
    "#  Each line contains a news article and the average popularity of it per day comma-seperated\n",
    "for platform, avg in avg_dataframes.items():\n",
    "    df = avg['avg_hour']\n",
    "    cols = [f'avg_hour{i}' for i in range(1, days + 1)]\n",
    "    part_path = f'output/exercise2/partitions/{platform}_day'\n",
    "    out_path = f'output/exercise2/{platform}_day'\n",
    "    df.select(cols).write.option(\"header\", True).mode(\"overwrite\").csv(part_path)\n",
    "    \n",
    "    os.system(f'rm {out_path}.txt')\n",
    "    os.system(f'cat {part_path}/p* > {out_path}.txt')"
   ]
  },
  {
   "cell_type": "code",
   "execution_count": null,
   "metadata": {},
   "outputs": [],
   "source": []
  }
 ],
 "metadata": {
  "kernelspec": {
   "display_name": "Python 3",
   "language": "python",
   "name": "python3"
  },
  "language_info": {
   "codemirror_mode": {
    "name": "ipython",
    "version": 3
   },
   "file_extension": ".py",
   "mimetype": "text/x-python",
   "name": "python",
   "nbconvert_exporter": "python",
   "pygments_lexer": "ipython3",
   "version": "3.6.8"
  }
 },
 "nbformat": 4,
 "nbformat_minor": 2
}
