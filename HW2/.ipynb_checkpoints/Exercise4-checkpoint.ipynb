{
 "cells": [
  {
   "cell_type": "code",
   "execution_count": 1,
   "metadata": {},
   "outputs": [],
   "source": [
    "from pyspark.sql import SparkSession\n",
    "from pyspark.sql.types import *\n",
    "from pyspark.sql.functions import split, explode, monotonically_increasing_id, col, lower, regexp_replace"
   ]
  },
  {
   "cell_type": "code",
   "execution_count": 2,
   "metadata": {},
   "outputs": [],
   "source": [
    "# Create a spark session/application\n",
    "spark = SparkSession.builder.appName('Exercise 4').getOrCreate()"
   ]
  },
  {
   "cell_type": "code",
   "execution_count": 3,
   "metadata": {},
   "outputs": [],
   "source": [
    "# Import News_Final.csv as dataframe using the defined schema\n",
    "schema = StructType(\n",
    "    [\n",
    "        StructField(\"IDLink\", IntegerType(), True),\n",
    "        StructField(\"Title\", StringType(), True),\n",
    "        StructField(\"Headline\", StringType(), True),\n",
    "        StructField(\"Source\", StringType(), True),\n",
    "        StructField(\"Topic\", StringType(), True),\n",
    "        StructField(\"PublishDate\", TimestampType(), True),\n",
    "        StructField(\"SentimentTitle\", FloatType(), True),\n",
    "        StructField(\"SentimentHeadline\", FloatType(), True),\n",
    "        StructField(\"Facebook\", FloatType(), True),\n",
    "        StructField(\"GooglePlus\", FloatType(), True),\n",
    "        StructField(\"LinkedIn\", FloatType(), True)\n",
    "    ]\n",
    ")\n",
    "\n",
    "df = spark.read.format(\"csv\")\\\n",
    "               .option(\"header\", \"true\")\\\n",
    "               .option(\"delimiter\", \",\")\\\n",
    "               .option('quote', '\"')\\\n",
    "               .option('escape', '\"')\\\n",
    "               .schema(schema)\\\n",
    "               .load(\"data/News_Final.csv\")\n",
    "\n",
    "\n",
    "df = df.withColumn('Title', lower(col('Title')))\\\n",
    "       .withColumn('Title', regexp_replace('Title', '[^a-z\\s]', ''))\\\n",
    "       .withColumn('Headline', lower(col('Headline')))\\\n",
    "       .withColumn('Headline', regexp_replace('Headline', '[^a-z\\s]', ''))\\\n",
    "       .select('Title', 'Headline', 'Topic')\n",
    "\n",
    "\n",
    "\n",
    "### search values for the 2 cases\n",
    "cases = ('Headline', 'Title')\n",
    "topics = ('obama', 'economy', 'palestine', 'microsoft')"
   ]
  },
  {
   "cell_type": "code",
   "execution_count": 4,
   "metadata": {},
   "outputs": [],
   "source": [
    "def get_top100(case, topic):\n",
    "    ### Collects all the articles for the topic\n",
    "    df_temp_untop100ed = df.filter(\"Topic == '\"+topic+\"'\")\n",
    "    \n",
    "    ### Counts, removes unwanted words ('...') & sorts from high to low\n",
    "    df_temp_top100ed = df_temp_untop100ed.withColumn('word', explode(split(col(case), ' ')))\\\n",
    "                                         .groupBy('word')\\\n",
    "                                         .count()\\\n",
    "                                         .limit(100)\n",
    "    top100 = [row[0] for row in df_temp_top100ed.collect()]\n",
    "    \n",
    "    return top100\n",
    "\n",
    "top100_dict = {}\n",
    "for case in cases:\n",
    "    top100_dict[case] = {}\n",
    "    for topic in topics:\n",
    "        top100_dict[case][topic] = get_top100(case, topic)"
   ]
  },
  {
   "cell_type": "code",
   "execution_count": 5,
   "metadata": {},
   "outputs": [],
   "source": [
    "def create_comatrix(case, topic, top100):\n",
    "    df_expl = df.filter(\"Topic == '\"+topic+\"'\")\\\n",
    "                .withColumn(\"id\", monotonically_increasing_id())\\\n",
    "                .select(\"id\", explode(split(case, \" \")))\n",
    "    df_fltr = df_expl.filter(df_expl.col.isin(top100))\n",
    "    \n",
    "    return df_fltr.withColumnRenamed(\"col\", \"col_\")\\\n",
    "                  .join(df_fltr, [\"id\"]).stat.crosstab(\"col_\", \"col\")\n",
    "\n",
    "comatrix_dict = {}\n",
    "for case in cases:\n",
    "    comatrix_dict[case] = {}\n",
    "    for topic in topics:\n",
    "        top100 = top100_dict[case][topic]\n",
    "        comatrix_dict[case][topic] = create_comatrix(case, topic, top100)"
   ]
  },
  {
   "cell_type": "code",
   "execution_count": 12,
   "metadata": {},
   "outputs": [],
   "source": [
    "for case in cases:\n",
    "    for topic in topics:\n",
    "        comatrix_df = comatrix_dict[case][topic]\n",
    "        comatrix_df.limit(1).write.option(\"header\", True).mode(\"overwrite\").csv(f\"output/exercise4/partition/comatrix_{case}_{topic}_header\")\n",
    "        comatrix_df.write.mode(\"overwrite\").csv(f\"output/exercise4/partition/comatrix_{case}_{topic}\")\n",
    "        os.system(f'rm output/exercise4/comatrix_{case}_{topic}.txt')\n",
    "        os.system(f'head -1 output/exercise4/partition/comatrix_{case}_{topic}_header/p*'\\\n",
    "                  f' > output/exercise4/comatrix_{case}_{topic}.txt')\n",
    "        os.system(f'cat output/exercise4/partition/comatrix_{case}_{topic}/p*'\\\n",
    "                  f' >> output/exercise4/comatrix_{case}_{topic}.txt')"
   ]
  },
  {
   "cell_type": "code",
   "execution_count": null,
   "metadata": {},
   "outputs": [],
   "source": []
  }
 ],
 "metadata": {
  "kernelspec": {
   "display_name": "Python 3",
   "language": "python",
   "name": "python3"
  },
  "language_info": {
   "codemirror_mode": {
    "name": "ipython",
    "version": 3
   },
   "file_extension": ".py",
   "mimetype": "text/x-python",
   "name": "python",
   "nbconvert_exporter": "python",
   "pygments_lexer": "ipython3",
   "version": "3.6.8"
  }
 },
 "nbformat": 4,
 "nbformat_minor": 2
}
