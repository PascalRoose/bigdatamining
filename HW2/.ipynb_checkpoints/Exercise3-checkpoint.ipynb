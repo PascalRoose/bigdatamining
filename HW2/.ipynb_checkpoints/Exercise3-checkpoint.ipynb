{
 "cells": [
  {
   "cell_type": "code",
   "execution_count": 27,
   "metadata": {},
   "outputs": [],
   "source": [
    "import pyspark.sql.functions as F\n",
    "\n",
    "from pyspark.sql import SparkSession\n",
    "from pyspark.sql.types import *"
   ]
  },
  {
   "cell_type": "code",
   "execution_count": 28,
   "metadata": {},
   "outputs": [],
   "source": [
    "# Create a spark session/application\n",
    "spark = SparkSession.builder.appName('Exercise 1').getOrCreate()"
   ]
  },
  {
   "cell_type": "code",
   "execution_count": 35,
   "metadata": {},
   "outputs": [],
   "source": [
    "# Import News_Final.csv as dataframe using the defined schema\n",
    "schema = StructType(\n",
    "    [\n",
    "        StructField(\"IDLink\", IntegerType(), True),\n",
    "        StructField(\"Title\", StringType(), True),\n",
    "        StructField(\"Headline\", StringType(), True),\n",
    "        StructField(\"Source\", StringType(), True),\n",
    "        StructField(\"Topic\", StringType(), True),\n",
    "        StructField(\"PublishDate\", TimestampType(), True),\n",
    "        StructField(\"SentimentTitle\", FloatType(), True),\n",
    "        StructField(\"SentimentHeadline\", FloatType(), True),\n",
    "        StructField(\"Facebook\", FloatType(), True),\n",
    "        StructField(\"GooglePlus\", FloatType(), True),\n",
    "        StructField(\"LinkedIn\", FloatType(), True)\n",
    "    ]\n",
    ")\n",
    "df = spark.read.format(\"csv\")\\\n",
    "    .option(\"header\", \"true\")\\\n",
    "    .option(\"delimiter\", \",\")\\\n",
    "    .option('quote', '\"')\\\n",
    "    .option('escape', '\"')\\\n",
    "    .schema(schema)\\\n",
    "    .load(\"data/News_Final.csv\")"
   ]
  },
  {
   "cell_type": "code",
   "execution_count": 34,
   "metadata": {},
   "outputs": [
    {
     "name": "stdout",
     "output_type": "stream",
     "text": [
      "+---------+---------------------+-------------------+--------------------+\n",
      "|    Topic|count(SentimentTotal)|sum(SentimentTotal)| avg(SentimentTotal)|\n",
      "+---------+---------------------+-------------------+--------------------+\n",
      "|microsoft|                21858|-135.35808374047338|-0.00619261065698...|\n",
      "|  economy|                33928| -845.5180280988279|-0.02492095107577...|\n",
      "|    obama|                28610| -267.6123161424184|-0.00935380343035...|\n",
      "|palestine|                 8843|-285.49876179474813|-0.03228528347786...|\n",
      "+---------+---------------------+-------------------+--------------------+\n",
      "\n"
     ]
    }
   ],
   "source": [
    "# Create a new column 'SentimentTotal', this is the average of the SentimentTitle and SentimentHeadline\n",
    "df = df.withColumn('SentimentTotal', (col('SentimentTitle') + col('SentimentHeadline')) / 2)\n",
    "\n",
    "# Group by 'Topic' than aggregate with the sum and mean of 'SentimentTotal'\n",
    "df = df.groupby('Topic').agg(F.sum('SentimentTotal'), F.mean('SentimentTotal'))\n",
    "\n",
    "# Show time, print the table\n",
    "df.show()"
   ]
  },
  {
   "cell_type": "code",
   "execution_count": null,
   "metadata": {},
   "outputs": [],
   "source": []
  }
 ],
 "metadata": {
  "kernelspec": {
   "display_name": "Python 3",
   "language": "python",
   "name": "python3"
  },
  "language_info": {
   "codemirror_mode": {
    "name": "ipython",
    "version": 3
   },
   "file_extension": ".py",
   "mimetype": "text/x-python",
   "name": "python",
   "nbconvert_exporter": "python",
   "pygments_lexer": "ipython3",
   "version": "3.6.8"
  }
 },
 "nbformat": 4,
 "nbformat_minor": 2
}
