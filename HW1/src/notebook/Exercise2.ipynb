{
 "cells": [
  {
   "cell_type": "code",
   "execution_count": 12,
   "metadata": {},
   "outputs": [],
   "source": [
    "from pyspark.sql import SparkSession\n",
    "from pyspark.sql.functions import *\n",
    "from pyspark.sql.types import *"
   ]
  },
  {
   "cell_type": "code",
   "execution_count": 13,
   "metadata": {},
   "outputs": [],
   "source": [
    "# Create a spark session/application\n",
    "spark = SparkSession.builder.appName('Exercise 2').getOrCreate()"
   ]
  },
  {
   "cell_type": "code",
   "execution_count": 14,
   "metadata": {
    "scrolled": true
   },
   "outputs": [],
   "source": [
    "# Import household_power_consumption.txt as dataframe using the defined schema\n",
    "schema = StructType(\n",
    "    [\n",
    "        StructField(\"Date\", StringType(), True),\n",
    "        StructField(\"Time\", StringType(), True),\n",
    "        StructField(\"Global_active_power\", FloatType(), True),\n",
    "        StructField(\"Global_reactive_power\", FloatType(), True),\n",
    "        StructField(\"Voltage\", FloatType(), True),\n",
    "        StructField(\"Global_intensity\", FloatType(), True),\n",
    "        StructField(\"Sub_metering_1\", FloatType(), True),\n",
    "        StructField(\"Sub_metering_2\", FloatType(), True),\n",
    "        StructField(\"Sub_metering_3\", FloatType(), True)\n",
    "    ]\n",
    ")\n",
    "df = spark.read.format(\"csv\").option(\"header\", \"true\").option(\"delimiter\", \";\").schema(schema).load(\"household_power_consumption.txt\")"
   ]
  },
  {
   "cell_type": "code",
   "execution_count": 15,
   "metadata": {},
   "outputs": [
    {
     "name": "stdout",
     "output_type": "stream",
     "text": [
      "-- Global_active_power --\n",
      "mean: 1.0916150366540094\n",
      "standard deviation: 1.0572941611180025\n",
      "\n",
      "-- Global_reactive_power --\n",
      "mean: 0.1237144765251571\n",
      "standard deviation: 0.11272197958641315\n",
      "\n",
      "-- Voltage --\n",
      "mean: 240.83985796672414\n",
      "standard deviation: 3.2399866612063435\n",
      "\n",
      "-- Global_intensity --\n",
      "mean: 4.627759313004169\n",
      "standard deviation: 4.4443962589812385\n",
      "\n"
     ]
    }
   ],
   "source": [
    "# Calculate and print the mean and standard deviation\n",
    "columns = ['Global_active_power', 'Global_reactive_power', 'Voltage', 'Global_intensity']\n",
    "for column in columns:\n",
    "    print(f'-- {column} --')\n",
    "    column_result = df.select(\n",
    "        _mean(col(column)).alias('mean'),\n",
    "        _stddev(col(column)).alias('std')\n",
    "    ).collect()[0]\n",
    "    print(f\"mean: {column_result['mean']}\")\n",
    "    print(f\"standard deviation: {column_result['std']}\\n\")"
   ]
  },
  {
   "cell_type": "code",
   "execution_count": null,
   "metadata": {},
   "outputs": [],
   "source": []
  },
  {
   "cell_type": "code",
   "execution_count": null,
   "metadata": {},
   "outputs": [],
   "source": []
  }
 ],
 "metadata": {
  "kernelspec": {
   "display_name": "Python 3",
   "language": "python",
   "name": "python3"
  },
  "language_info": {
   "codemirror_mode": {
    "name": "ipython",
    "version": 3
   },
   "file_extension": ".py",
   "mimetype": "text/x-python",
   "name": "python",
   "nbconvert_exporter": "python",
   "pygments_lexer": "ipython3",
   "version": "3.6.8"
  }
 },
 "nbformat": 4,
 "nbformat_minor": 2
}
