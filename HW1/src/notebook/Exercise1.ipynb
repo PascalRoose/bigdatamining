{
 "cells": [
  {
   "cell_type": "code",
   "execution_count": 1,
   "metadata": {},
   "outputs": [],
   "source": [
    "from pyspark.sql import SparkSession\n",
    "from pyspark.sql.functions import *\n",
    "from pyspark.sql.types import *"
   ]
  },
  {
   "cell_type": "code",
   "execution_count": 2,
   "metadata": {},
   "outputs": [],
   "source": [
    "# Create a spark session/application\n",
    "spark = SparkSession.builder.appName('Exercise 1').getOrCreate()"
   ]
  },
  {
   "cell_type": "code",
   "execution_count": 3,
   "metadata": {},
   "outputs": [],
   "source": [
    "# Import household_power_consumption.txt as dataframe using the defined schema\n",
    "schema = StructType(\n",
    "    [\n",
    "        StructField(\"Date\", StringType(), True),\n",
    "        StructField(\"Time\", StringType(), True),\n",
    "        StructField(\"Global_active_power\", FloatType(), True),\n",
    "        StructField(\"Global_reactive_power\", FloatType(), True),\n",
    "        StructField(\"Voltage\", FloatType(), True),\n",
    "        StructField(\"Global_intensity\", FloatType(), True),\n",
    "        StructField(\"Sub_metering_1\", FloatType(), True),\n",
    "        StructField(\"Sub_metering_2\", FloatType(), True),\n",
    "        StructField(\"Sub_metering_3\", FloatType(), True)\n",
    "    ]\n",
    ")\n",
    "df = spark.read.format(\"csv\").option(\"header\", \"true\").option(\"delimiter\", \";\").schema(schema).load(\"household_power_consumption.txt\")"
   ]
  },
  {
   "cell_type": "code",
   "execution_count": 5,
   "metadata": {},
   "outputs": [
    {
     "name": "stdout",
     "output_type": "stream",
     "text": [
      "-- Global_active_power --\n",
      "min: 0.07599999755620956\n",
      "max: 11.121999740600586\n",
      "count: 2049280\n",
      "\n",
      "-- Global_reactive_power --\n",
      "min: 0.0\n",
      "max: 1.3899999856948853\n",
      "count: 2049280\n",
      "\n",
      "-- Voltage --\n",
      "min: 223.1999969482422\n",
      "max: 254.14999389648438\n",
      "count: 2049280\n",
      "\n",
      "-- Global_intensity --\n",
      "min: 0.20000000298023224\n",
      "max: 48.400001525878906\n",
      "count: 2049280\n",
      "\n"
     ]
    }
   ],
   "source": [
    "# Calculate and print the min, max and count f\n",
    "columns = ['Global_active_power', 'Global_reactive_power', 'Voltage', 'Global_intensity']\n",
    "for column in columns:\n",
    "    print(f'-- {column} --')\n",
    "    column_result = df.agg(\n",
    "        min(column).alias('min'), \n",
    "        max(column).alias('max'), \n",
    "        count(column).alias('count')\n",
    "    ).collect()[0]\n",
    "    print(f\"min: {column_result['min']}\")\n",
    "    print(f\"max: {column_result['max']}\")\n",
    "    print(f\"count: {column_result['count']}\\n\")"
   ]
  },
  {
   "cell_type": "code",
   "execution_count": null,
   "metadata": {},
   "outputs": [],
   "source": []
  }
 ],
 "metadata": {
  "kernelspec": {
   "display_name": "Python 3",
   "language": "python",
   "name": "python3"
  },
  "language_info": {
   "codemirror_mode": {
    "name": "ipython",
    "version": 3
   },
   "file_extension": ".py",
   "mimetype": "text/x-python",
   "name": "python",
   "nbconvert_exporter": "python",
   "pygments_lexer": "ipython3",
   "version": "3.6.8"
  }
 },
 "nbformat": 4,
 "nbformat_minor": 2
}
