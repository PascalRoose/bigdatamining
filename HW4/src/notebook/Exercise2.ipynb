{
 "cells": [
  {
   "cell_type": "code",
   "execution_count": 1,
   "metadata": {},
   "outputs": [],
   "source": [
    "import numpy\n",
    "import random\n",
    "import pyspark.sql.functions as F\n",
    "\n",
    "from pyspark.sql import SparkSession\n",
    "from pyspark.sql.types import *"
   ]
  },
  {
   "cell_type": "code",
   "execution_count": 2,
   "metadata": {},
   "outputs": [],
   "source": [
    "# Create a spark session/application\n",
    "spark = SparkSession.builder.appName('Homework4_Exercise2').getOrCreate()"
   ]
  },
  {
   "cell_type": "code",
   "execution_count": 3,
   "metadata": {},
   "outputs": [],
   "source": [
    "# Import ratings.dat\n",
    "ratings_df = spark.read.format(\"csv\").load(\"data/ratings.dat\")\n",
    "ratings_df = ratings_df.select(F.split(ratings_df.columns[0], \"::\").alias('SplitValues'))\n",
    "ratings_df = ratings_df.withColumn('UserID', F.col('SplitValues').getItem(0).cast(IntegerType()))\n",
    "ratings_df = ratings_df.withColumn('MovieID', F.col('SplitValues').getItem(1).cast(IntegerType()))\n",
    "ratings_df = ratings_df.withColumn('Rating', F.col('SplitValues').getItem(2).cast(ByteType()))\n",
    "ratings_df = ratings_df.withColumn('Timestamp', F.col('SplitValues').getItem(3).cast(IntegerType()))\n",
    "ratings_df = ratings_df.drop(F.col('SplitValues'))"
   ]
  },
  {
   "cell_type": "code",
   "execution_count": 4,
   "metadata": {},
   "outputs": [],
   "source": [
    "# Create a matrix with movies as columns and users as rows, each matrix value is a rating\n",
    "matrix_df = ratings_df.groupby('UserID').pivot('MovieID').sum('Rating').fillna(0)"
   ]
  },
  {
   "cell_type": "code",
   "execution_count": 5,
   "metadata": {},
   "outputs": [],
   "source": [
    "# Convert matrix to a single column with an array\n",
    "columns = [c for c in matrix_df.columns if c != 'UserID']\n",
    "userratings_df = matrix_df.withColumn('Ratings', F.array(columns)).select('UserID', 'Ratings')"
   ]
  },
  {
   "cell_type": "code",
   "execution_count": 6,
   "metadata": {},
   "outputs": [],
   "source": [
    "# To prove this works for any given user, we pick one at random\n",
    "userids = ratings_df.select('UserID').distinct().collect()\n",
    "userid = random.choice(userids)[0]\n",
    "userratings = userratings_df.select('Ratings').where(F.col('UserID') == userid).collect()[0]['Ratings']"
   ]
  },
  {
   "cell_type": "code",
   "execution_count": 11,
   "metadata": {},
   "outputs": [],
   "source": [
    "# Calculation the cosine similarity\n",
    "def cos_sim(other_userratings):\n",
    "    # The cosine similiarity = dotproduct / ( normalized(a) * normalized(b) )\n",
    "    dot = numpy.dot(userratings, other_userratings)\n",
    "    norma = numpy.linalg.norm(userratings)\n",
    "    normb = numpy.linalg.norm(other_userratings)\n",
    "    cos = dot/(norma*normb)\n",
    "    return cos.item()"
   ]
  },
  {
   "cell_type": "code",
   "execution_count": 12,
   "metadata": {},
   "outputs": [],
   "source": [
    "# Load all userratings into memory\n",
    "all_userratings = userratings_df.select('UserID', 'Ratings').collect()"
   ]
  },
  {
   "cell_type": "code",
   "execution_count": 13,
   "metadata": {},
   "outputs": [],
   "source": [
    "# Calculate user simularities\n",
    "usersim = []\n",
    "for other_userratings in all_userratings:\n",
    "    usersim.append((other_userratings['UserID'], cos_sim(other_userratings['Ratings'])))"
   ]
  },
  {
   "cell_type": "code",
   "execution_count": 14,
   "metadata": {},
   "outputs": [],
   "source": [
    "# Load the user similarities as dataframe to output\n",
    "schema = StructType(\n",
    "    [\n",
    "        StructField(\"UserID\", IntegerType(), True),\n",
    "        StructField(\"Rating\", FloatType(), True)\n",
    "    ]\n",
    ")\n",
    "output_df = spark.createDataFrame(usersim, schema).sort(F.desc('Rating'))"
   ]
  },
  {
   "cell_type": "code",
   "execution_count": 15,
   "metadata": {},
   "outputs": [
    {
     "data": {
      "text/plain": [
       "0"
      ]
     },
     "execution_count": 15,
     "metadata": {},
     "output_type": "execute_result"
    }
   ],
   "source": [
    "# Write the output to output/exercise1.csv\n",
    "output_df.write.mode(\"overwrite\").csv(f'output/exercise2/{userid}')\n",
    "os.system(f'rm output/exercise2/{userid}.csv')\n",
    "os.system(f'cat output/exercise2/{userid}/p* > output/exercise2/{userid}.csv')"
   ]
  },
  {
   "cell_type": "code",
   "execution_count": 9,
   "metadata": {},
   "outputs": [],
   "source": []
  },
  {
   "cell_type": "code",
   "execution_count": null,
   "metadata": {},
   "outputs": [],
   "source": []
  }
 ],
 "metadata": {
  "kernelspec": {
   "display_name": "Python 3",
   "language": "python",
   "name": "python3"
  },
  "language_info": {
   "codemirror_mode": {
    "name": "ipython",
    "version": 3
   },
   "file_extension": ".py",
   "mimetype": "text/x-python",
   "name": "python",
   "nbconvert_exporter": "python",
   "pygments_lexer": "ipython3",
   "version": "3.6.8"
  }
 },
 "nbformat": 4,
 "nbformat_minor": 2
}
