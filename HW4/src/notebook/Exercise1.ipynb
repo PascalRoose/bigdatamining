{
 "cells": [
  {
   "cell_type": "code",
   "execution_count": 7,
   "metadata": {},
   "outputs": [],
   "source": [
    "import pyspark.sql.functions as F\n",
    "\n",
    "from pyspark.sql import SparkSession\n",
    "from pyspark.sql.types import *"
   ]
  },
  {
   "cell_type": "code",
   "execution_count": 8,
   "metadata": {},
   "outputs": [],
   "source": [
    "# Create a spark session/application\n",
    "spark = SparkSession.builder.appName('Homework4_Exercise1').getOrCreate()"
   ]
  },
  {
   "cell_type": "code",
   "execution_count": 9,
   "metadata": {},
   "outputs": [],
   "source": [
    "# Import movies.dat\n",
    "movies_df = spark.read.format(\"csv\").load(\"data/movies.dat\")\n",
    "movies_df = movies_df.select(F.split(movies_df.columns[0], \"::\").alias('SplitValues'))\n",
    "movies_df = movies_df.withColumn('MovieID', F.col('SplitValues').getItem(0).cast(IntegerType()))\n",
    "movies_df = movies_df.withColumn('Title', F.col('SplitValues').getItem(1))\n",
    "movies_df = movies_df.withColumn('Genre', F.split(F.col('SplitValues').getItem(2), '\\|'))\n",
    "movies_df = movies_df.drop(F.col('SplitValues'))"
   ]
  },
  {
   "cell_type": "code",
   "execution_count": 10,
   "metadata": {},
   "outputs": [],
   "source": [
    "# Import ratings.dat\n",
    "ratings_df = spark.read.format(\"csv\").load(\"data/ratings.dat\")\n",
    "ratings_df = ratings_df.select(F.split(ratings_df.columns[0], \"::\").alias('SplitValues'))\n",
    "ratings_df = ratings_df.withColumn('UserID', F.col('SplitValues').getItem(0).cast(IntegerType()))\n",
    "ratings_df = ratings_df.withColumn('MovieID', F.col('SplitValues').getItem(1).cast(IntegerType()))\n",
    "ratings_df = ratings_df.withColumn('Rating', F.col('SplitValues').getItem(2).cast(FloatType()))\n",
    "ratings_df = ratings_df.withColumn('Timestamp', F.col('SplitValues').getItem(3).cast(IntegerType()))\n",
    "ratings_df = ratings_df.drop(F.col('SplitValues'))"
   ]
  },
  {
   "cell_type": "code",
   "execution_count": 11,
   "metadata": {},
   "outputs": [
    {
     "data": {
      "text/plain": [
       "'\\n# Import users.dat\\nusers_df = spark.read.format(\"csv\").load(\"data/users.dat\")\\nusers_df = users_df.select(F.split(users_df.columns[0], \"::\").alias(\\'SplitValues\\'))\\nusers_df = users_df.withColumn(\\'UserID\\', F.col(\\'SplitValues\\').getItem(0).cast(IntegerType()))\\nusers_df = users_df.withColumn(\\'Gender\\', F.col(\\'SplitValues\\').getItem(1))\\nusers_df = users_df.withColumn(\\'Age\\', F.col(\\'SplitValues\\').getItem(2).cast(ByteType()))\\nusers_df = users_df.withColumn(\\'Occupation\\', F.col(\\'SplitValues\\').getItem(3).cast(ByteType()))\\nusers_df = users_df.withColumn(\\'Zip-code\\', F.col(\\'SplitValues\\').getItem(4).cast(IntegerType()))\\nusers_df = users_df.drop(F.col(\\'SplitValues\\'))\\n'"
      ]
     },
     "execution_count": 11,
     "metadata": {},
     "output_type": "execute_result"
    }
   ],
   "source": [
    "'''\n",
    "# Import users.dat\n",
    "users_df = spark.read.format(\"csv\").load(\"data/users.dat\")\n",
    "users_df = users_df.select(F.split(users_df.columns[0], \"::\").alias('SplitValues'))\n",
    "users_df = users_df.withColumn('UserID', F.col('SplitValues').getItem(0).cast(IntegerType()))\n",
    "users_df = users_df.withColumn('Gender', F.col('SplitValues').getItem(1))\n",
    "users_df = users_df.withColumn('Age', F.col('SplitValues').getItem(2).cast(ByteType()))\n",
    "users_df = users_df.withColumn('Occupation', F.col('SplitValues').getItem(3).cast(ByteType()))\n",
    "users_df = users_df.withColumn('Zip-code', F.col('SplitValues').getItem(4).cast(IntegerType()))\n",
    "users_df = users_df.drop(F.col('SplitValues'))\n",
    "'''"
   ]
  },
  {
   "cell_type": "code",
   "execution_count": 12,
   "metadata": {},
   "outputs": [],
   "source": [
    "# Calculate average rating\n",
    "avgratings_df = ratings_df.select(F.col('MovieID'), F.col('Rating'))\n",
    "avgratings_df = avgratings_df.groupBy(F.col('MovieID')).agg(F.mean(F.col('Rating')).alias('Average Rating'))\n",
    "avgratings_df = avgratings_df.join(movies_df, avgratings_df.MovieID == movies_df.MovieID)"
   ]
  },
  {
   "cell_type": "code",
   "execution_count": 15,
   "metadata": {},
   "outputs": [
    {
     "data": {
      "text/plain": [
       "0"
      ]
     },
     "execution_count": 15,
     "metadata": {},
     "output_type": "execute_result"
    }
   ],
   "source": [
    "# Write the output to output/exercise1.csv\n",
    "output_df = avgratings_df.select('Title', 'Average Rating').sort(F.desc(\"Average Rating\"))\n",
    "output_df.write.mode(\"overwrite\").csv('output/exercise1/avgrating')\n",
    "os.system(f'rm output/exercise1/avgrating.csv')\n",
    "os.system(f'cat output/exercise1/avgrating/p* > output/exercise1/avgrating.csv')"
   ]
  },
  {
   "cell_type": "code",
   "execution_count": null,
   "metadata": {},
   "outputs": [],
   "source": []
  },
  {
   "cell_type": "code",
   "execution_count": 15,
   "metadata": {},
   "outputs": [
    {
     "name": "stdout",
     "output_type": "stream",
     "text": [
      "+-----------+\n",
      "|max(UserID)|\n",
      "+-----------+\n",
      "|       6040|\n",
      "+-----------+\n",
      "\n"
     ]
    }
   ],
   "source": []
  },
  {
   "cell_type": "code",
   "execution_count": null,
   "metadata": {},
   "outputs": [],
   "source": []
  },
  {
   "cell_type": "code",
   "execution_count": null,
   "metadata": {},
   "outputs": [],
   "source": []
  }
 ],
 "metadata": {
  "kernelspec": {
   "display_name": "Python 3",
   "language": "python",
   "name": "python3"
  },
  "language_info": {
   "codemirror_mode": {
    "name": "ipython",
    "version": 3
   },
   "file_extension": ".py",
   "mimetype": "text/x-python",
   "name": "python",
   "nbconvert_exporter": "python",
   "pygments_lexer": "ipython3",
   "version": "3.6.8"
  }
 },
 "nbformat": 4,
 "nbformat_minor": 2
}
