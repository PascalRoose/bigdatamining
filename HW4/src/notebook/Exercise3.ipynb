{
 "cells": [
  {
   "cell_type": "code",
   "execution_count": 1,
   "metadata": {},
   "outputs": [],
   "source": [
    "import numpy\n",
    "import random\n",
    "import pyspark.sql.functions as F\n",
    "\n",
    "from pyspark.sql import SparkSession\n",
    "from pyspark.sql.types import *"
   ]
  },
  {
   "cell_type": "code",
   "execution_count": 2,
   "metadata": {},
   "outputs": [],
   "source": [
    "# Create a spark session/application\n",
    "spark = SparkSession.builder.appName('Homework4_Exercise2').getOrCreate()"
   ]
  },
  {
   "cell_type": "code",
   "execution_count": 3,
   "metadata": {},
   "outputs": [],
   "source": [
    "# Import ratings.dat\n",
    "ratings_df = spark.read.format(\"csv\").load(\"data/ratings.dat\")\n",
    "ratings_df = ratings_df.select(F.split(ratings_df.columns[0], \"::\").alias('SplitValues'))\n",
    "ratings_df = ratings_df.withColumn('UserID', F.col('SplitValues').getItem(0).cast(IntegerType()))\n",
    "ratings_df = ratings_df.withColumn('MovieID', F.col('SplitValues').getItem(1).cast(IntegerType()))\n",
    "ratings_df = ratings_df.withColumn('Rating', F.col('SplitValues').getItem(2).cast(ByteType()))\n",
    "ratings_df = ratings_df.withColumn('Timestamp', F.col('SplitValues').getItem(3).cast(IntegerType()))\n",
    "ratings_df = ratings_df.drop(F.col('SplitValues'))"
   ]
  },
  {
   "cell_type": "code",
   "execution_count": 4,
   "metadata": {},
   "outputs": [],
   "source": [
    "# Create a matrix with users as columns and movies as rows, each matrix value is a rating\n",
    "matrix_df = ratings_df.groupby('MovieID').pivot('UserID').sum('Rating').fillna(0)"
   ]
  },
  {
   "cell_type": "code",
   "execution_count": 13,
   "metadata": {},
   "outputs": [],
   "source": [
    "# Convert matrix to a single column with an array\n",
    "columns = [c for c in matrix_df.columns if c != 'MovieID']\n",
    "movieratings_df = matrix_df.withColumn('Ratings', F.array(columns)).select('MovieID', 'Ratings')"
   ]
  },
  {
   "cell_type": "code",
   "execution_count": 14,
   "metadata": {},
   "outputs": [],
   "source": [
    "# To prove this works for any given movie, we pick one at random\n",
    "movieids = ratings_df.select('MovieID').distinct().collect()\n",
    "movieid = random.choice(movieids)[0]\n",
    "movieratings = movieratings_df.select('Ratings').where(F.col('MovieID') == movieid).collect()[0]"
   ]
  },
  {
   "cell_type": "code",
   "execution_count": 15,
   "metadata": {},
   "outputs": [],
   "source": [
    "# Calculation the cosine similarity\n",
    "def cos_sim(a, b):\n",
    "    # The cosine similiarity = dotproduct / ( normalized(a) * normalized(b) )\n",
    "    dot = numpy.dot(a, b)\n",
    "    norma = numpy.linalg.norm(a)\n",
    "    normb = numpy.linalg.norm(b)\n",
    "    cos = dot/(norma*normb)\n",
    "    return cos.item()"
   ]
  },
  {
   "cell_type": "code",
   "execution_count": 16,
   "metadata": {},
   "outputs": [],
   "source": [
    "# Load all movieratings into memory\n",
    "all_movieratings = movieratings_df.select('MovieID', 'Ratings').collect()"
   ]
  },
  {
   "cell_type": "code",
   "execution_count": 17,
   "metadata": {},
   "outputs": [],
   "source": [
    "# Calculate user simularities\n",
    "moviesim = []\n",
    "for other_movieratings in all_movieratings:\n",
    "    simularity = cos_sim(movieratings['Ratings'], other_movieratings['Ratings'])\n",
    "    moviesim.append((other_movieratings['MovieID'], simularity))"
   ]
  },
  {
   "cell_type": "code",
   "execution_count": 18,
   "metadata": {},
   "outputs": [],
   "source": [
    "# Load the movie similarities as dataframe to output\n",
    "schema = StructType(\n",
    "    [\n",
    "        StructField(\"MovieID\", IntegerType(), True),\n",
    "        StructField(\"Rating\", FloatType(), True)\n",
    "    ]\n",
    ")\n",
    "output_df = spark.createDataFrame(moviesim, schema).sort(F.desc('Rating'))"
   ]
  },
  {
   "cell_type": "code",
   "execution_count": 19,
   "metadata": {},
   "outputs": [
    {
     "data": {
      "text/plain": [
       "0"
      ]
     },
     "execution_count": 19,
     "metadata": {},
     "output_type": "execute_result"
    }
   ],
   "source": [
    "# Write the output to output/exercise3.csv\n",
    "output_df.write.mode(\"overwrite\").csv(f'output/exercise3/{movieid}')\n",
    "os.system(f'rm output/exercise3/{movieid}.csv')\n",
    "os.system(f'cat output/exercise3/{movieid}/p* > output/exercise3/{movieid}.csv')"
   ]
  },
  {
   "cell_type": "code",
   "execution_count": null,
   "metadata": {},
   "outputs": [],
   "source": []
  },
  {
   "cell_type": "code",
   "execution_count": null,
   "metadata": {},
   "outputs": [],
   "source": []
  }
 ],
 "metadata": {
  "kernelspec": {
   "display_name": "Python 3",
   "language": "python",
   "name": "python3"
  },
  "language_info": {
   "codemirror_mode": {
    "name": "ipython",
    "version": 3
   },
   "file_extension": ".py",
   "mimetype": "text/x-python",
   "name": "python",
   "nbconvert_exporter": "python",
   "pygments_lexer": "ipython3",
   "version": "3.6.8"
  }
 },
 "nbformat": 4,
 "nbformat_minor": 2
}
